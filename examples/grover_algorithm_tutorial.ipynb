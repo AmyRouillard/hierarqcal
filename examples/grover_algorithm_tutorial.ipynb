{
 "cells": [
  {
   "cell_type": "markdown",
   "id": "591b2061",
   "metadata": {},
   "source": [
    "# Grover's Algorithm with hierarcqal\n"
   ]
  },
  {
   "cell_type": "code",
   "execution_count": 149,
   "id": "297e1588-6df5-4246-91ad-fe1da9da921c",
   "metadata": {},
   "outputs": [],
   "source": [
    "#!pip install qiskit-aer\n"
   ]
  },
  {
   "cell_type": "code",
   "execution_count": 150,
   "id": "e1a2dbcc",
   "metadata": {},
   "outputs": [],
   "source": [
    "import numpy as np\n",
    "import sympy as sp\n",
    "import matplotlib.pyplot as plt\n",
    "import matplotlib as mpl\n",
    "from hierarqcal import Qinit, Qmask, Qunmask, Qmotif, Qunitary, Qpivot, Qcycle\n",
    "\n",
    "mpl_backend = mpl.get_backend()\n"
   ]
  },
  {
   "cell_type": "markdown",
   "id": "fca51beb",
   "metadata": {},
   "source": [
    "## Background\n",
    "\n",
    "Imagine someone hands you a definition of a word. They then ask you to use a dictionary to find the word that has a definition that exactly matches the given definition. If your dictionary contains $N$ words, on average you will need to check (query) $N/2$ times whether a word's definition exactly matches the given definition before you can expect to find an exact match. This is intuitively correct since sometimes you will be lucky and find the word immediately, while other times you will need to search through the entire dictionary before you find the word you seek. \n",
    "\n",
    "This is a typical example of a search of an unstructured database. In our example a dictionary, while clearly structured alphabetically, is not structured with respect to the definitions it contains. Grover's algorithm is a quantum algorithm that provides a speed-up with respect to the number of steps needed, allowing one to find the sought entry in order $\\sqrt{N}$ queries.\n",
    "\n",
    "### The algorithm\n",
    "\n",
    "Grover's algorithm provides an optimal method to amplify the amplitude of a specific state. This specific state is usually referred to as the *target state* which we label  $T$. The algorithm requires an oracle, that is a \"black-box\" with the ability to change the sign of the amplitude of the target state. This processes is commonly described as *marking* the target. \n",
    "\n",
    "Grover's algorithm works in two steps:\n",
    "\n",
    "Step 1: Apply the oracle. \n",
    "\n",
    "Step 2: Reflect in a hyperplane orthogonal to some state $\\psi$. \n",
    "\n",
    "It turns out that step 1 and 2 are in fact the same type of operation, namely a reflection. Reflecting a vector is nothing other than changing the sign of the component of the vector that is parallel to the normal to the (hyper)plane of reflection, while doing nothing to all other components of the vector. Step 1 is therefore nothing other than a reflection in the hyperplane orthogonal to the target state $T$. \n",
    "\n",
    "A reflection in the hyperplane orthogonal to a vector $\\hat{n}$ is given in Dirac notation by\n",
    "$$U_{\\text{reflect}} = \\mathbb{I} - 2|\\hat{n}  \\rangle\\langle \\hat{n} |$$\n",
    "where $|\\hat{n}\\rangle$ is the state associated with the normal vector $\\hat{n}$.\n",
    "\n",
    "We shall see that the algorithm performs optimally if $\\psi$,  $T$ and the initial state of the system all lie in the same plane.\n",
    "\n",
    "### *Side note on reflections* \n",
    "In descriptions of Grover's algorithm the second step is commonly characterized as a reflection *across a state* in the plane, with this state taken to be the equal superposition of all computational basis states. A reflection across a state can be written as\n",
    "$$V = - \\mathbb{I} + 2|\\hat{r}  \\rangle\\langle \\hat{r} |$$\n",
    "where $\\hat{r}$ is the state across which we reflect. It is straightforward to check that $V$ can also be written as\n",
    "$$V = - \\big(\\mathbb{I} - 2|\\hat{r}_\\perp  \\rangle\\langle \\hat{r}_\\perp | \\big)$$\n",
    "where $\\hat{r}_\\perp$ is a vector perpendicular to $\\hat{r}$. The above equality shows that any reflection *across a state $\\hat{r}$ in a hyperplane* can be reformulated at a reflection *in the hyperplane orthogonal to a state* $\\hat{r}_\\perp$.\n",
    " \n",
    "Since $\\psi$ is some arbitrary state, $V$ and $U_{\\text{reflect}}$ differ only by a global phase factor.\n",
    "\n",
    "\n",
    "### Evolution according to Grover\n",
    "\n",
    "The complete action of Grover's algorithm can be described as a rotation in a fixed plane by a fixed angle. \n",
    "\n",
    "Assuming that we started in some state $\\phi$, which we denote in Dirac notation as $|\\phi\\rangle$, one iteration of Grover's algorithm transforms the initial state as follows\n",
    "$$|\\phi\\rangle \\rightarrow (\\mathbb{I} - 2|\\psi \\rangle\\langle \\psi|)(\\mathbb{I} - 2|T \\rangle\\langle T|)|\\phi\\rangle\\,.$$\n",
    "\n",
    "One can visualize this process by first noticing that $|\\phi\\rangle$ can be separated into two components: A component lying in the plane spanned by $|T\\rangle$ and $|\\psi\\rangle$ and a component orthogonal to this plane. In this way we can visualize the process in three dimensions, despite the fact that the process occurs in a high-dimensional space.\n",
    "\n",
    "Note that the component of $\\phi$ orthogonal to the plane spanned by $T$ and $\\psi$ is an eigenstate of the transformation. It therefore represents a portion of the initial state that is inaccessible to the algorithm. Hence, the algorithm performs optimally if $\\psi$,  $T$ and $\\phi$ all lie in the same plane, as mentioned earlier. The algorithm completely breaks down if $\\phi$ is orthogonal to the plane spanned by $\\psi$ and $T$."
   ]
  },
  {
   "cell_type": "markdown",
   "id": "a37403f5",
   "metadata": {},
   "source": [
    "<img src=\"./grover.gif\" alt=\"Grover animation\" width=\"400\"/>"
   ]
  },
  {
   "cell_type": "markdown",
   "id": "bd73ce03",
   "metadata": {},
   "source": [
    "The diagram above depicts one iteration of Grover's algorithm. The states $\\psi$ and $T$ are depicted as lying in the plane of your screen, while the initial state $\\phi$ lies somewhere outside of this plane. The components of $\\phi$ lying inside and outside of the plane spanned by $T$ and $\\psi$ are shown as dashed vectors. \n",
    "\n",
    "The first set of green arrows show step 1, the action of the oracle: the component of the initial state parallel to the target is *marked* with a $\\pi$ phase. \n",
    "\n",
    "The second set of green arrows show step 2: the intermediate state is reflected in the hyperplane orthogonal to the state $\\psi$. \n",
    "\n",
    "The final frame shows the initial and final positions of $\\phi$. \n",
    "\n",
    "#### *How big is the angle of rotation?*\n",
    "Since the target is in principle unknown, it is reasonable to assume that the initial state only contains some small component of the target state. For the same reason, $\\psi$ (or equivalently the state orthogonal to $\\psi$ in the plane spanned by $\\psi$ and $T$ see *side note*) is usually chosen as an equal superposition of all computational basis states. This gives the best \"coverage\" for all possible target states. (It is left as an exercise to the reader to convince yourself that the algorithm fails to amplify the target state if $\\psi$ and $T$ are parallel or orthogonal.) Hence, if the computational basis (i.e. the search space) is large, the angle of rotation is in general small, which for ease of depiction is not the case in the above animation. We can now update our remark on the evolution according to Grover's algorithm to:\n",
    "\n",
    "**Grover's algorithm can be described as a rotation in a fixed plane by a fixed, usually small, angle.**\n",
    "\n",
    "### Knowing when to stop\n",
    "\n",
    "The target state is, in general, not an eigenstate of the transformation \n",
    "$$U_G = (\\mathbb{I} - 2|\\psi \\rangle\\langle \\psi|)(\\mathbb{I} - 2|T \\rangle\\langle T|)\\,.$$\n",
    "The probability of measuring $T$ as a function of the number of iterations of the algorithm is given by\n",
    "$$P_T(n) = |\\langle T|U_G^n|\\phi\\rangle|^2 = \\langle \\phi_\\||\\phi_\\|\\rangle \\sin^2(\\theta_0 + 2n\\theta)$$\n",
    "where $\\cos(\\theta) = |\\langle T|\\psi\\rangle|$, $\\sin(\\theta_0) = \\frac{|\\langle T|\\phi_\\|\\rangle|}{\\sqrt{\\langle  \\phi_\\| | \\phi_\\|\\rangle}}$ and $|\\phi_\\| \\rangle = |T\\rangle\\langle T|\\phi\\rangle + \\frac{1}{1-|\\langle T|\\psi\\rangle|^2} (\\mathbb{I} - |T\\rangle\\langle T|)|\\psi \\rangle\\langle\\psi| (\\mathbb{I} - |T\\rangle\\langle T|)|\\phi\\rangle$ is the non-normalized projection of $\\phi$ into the plane spanned by $T$ and $\\psi$.\n",
    "\n",
    "The probability $P_T(n)$ oscillates periodically as a function of $n$ and we can compute the optimal number of iterations required to maximize the probability of measuring the target state. In practice, for large Hilbert spaces, we can estimate the optimal number of iterations to be $\\sqrt{N}$, if $\\psi$, $T$, $\\phi$ $\\in \\otimes^n \\mathcal{H}_2$, i.e. are $n$ qubit states, where $n = \\log_2 N$ is large.\n",
    "\n",
    "The angle $\\theta$ is in fact the angle of rotation which characterizes Grover's algorithm and the evolution as a function as the number of iterations $n$ can be written as \n",
    "$$|\\phi(n)\\rangle = U_G^n|\\phi\\rangle  = \\sqrt{\\langle \\phi_\\||\\phi_\\|\\rangle} \\big(\\sin(\\theta_0 + 2n\\theta) |T\\rangle + \\cos(\\theta_0 + 2n\\theta) |T_\\perp\\rangle\\big) + |\\phi_R\\rangle\\,,$$\n",
    "where  $ |T_\\perp\\rangle = (\\mathbb{I} - |T\\rangle\\langle T|)|\\psi \\rangle/\\sqrt{1-|\\langle T|\\psi\\rangle|^2}$ is the state orthogonal to the target in the plane spanned by $T$ and $\\psi$ and $|\\phi_R\\rangle = |\\phi\\rangle - |\\phi_\\|\\rangle$ is the \"rest\" state that contains the component of $\\phi$ orthogonal to this plane.\n",
    "\n",
    "\n"
   ]
  },
  {
   "cell_type": "markdown",
   "id": "408dc750",
   "metadata": {},
   "source": [
    "## Grover's algorithm with Hierarqcal\n",
    "\n",
    "In order to simulate Grover's algorithm we make the further simplification\n",
    "$$U_G = (\\mathbb{I} - 2|\\psi \\rangle\\langle \\psi|)(\\mathbb{I} - 2|T \\rangle\\langle T|) = U_\\psi (\\mathbb{I} - 2|0 \\rangle\\langle 0|)U_\\psi^\\dagger U_T(\\mathbb{I} - 2|0 \\rangle\\langle 0|) U_T^\\dagger \\,.$$\n",
    "For the purposes of this tutorial we have to construct the circuit that implements the oracle, but in practice the oracle can be imagined as some black-box we can pass our qubits to, without knowing it's inner workings. \n",
    "\n",
    "In order to construct the quantum circuit to perform Grover's algorithm we need only three operators $U_\\psi$ which prepares $\\psi$, $U_T$ which encodes the target state and $\\mathbb{I} - 2|0 \\rangle\\langle 0|$ which is nothing other than a rotated multi-controlled $Z$ gate.\n",
    "\n",
    "In this tutorial we implement the multi-controlled $Z$ gate using a series of Toffoli gates and some additional ancillary qubits. Other implementations are possible but here we made the arbitrary choice to opt for the implementation with a smaller circuit depth. "
   ]
  },
  {
   "cell_type": "markdown",
   "id": "ce3b4b86",
   "metadata": {},
   "source": [
    "### Choose the number of qubits"
   ]
  },
  {
   "cell_type": "code",
   "execution_count": 151,
   "id": "be283fed",
   "metadata": {},
   "outputs": [],
   "source": [
    "n = 7\n"
   ]
  },
  {
   "cell_type": "markdown",
   "id": "d7d27caf",
   "metadata": {},
   "source": [
    "### Choose target state\n",
    "\n",
    "Here we generate a random bit string to determine the target but you can select any target provided that the string that defines it is of length $n$, to avoid unexpected behavior."
   ]
  },
  {
   "cell_type": "code",
   "execution_count": 152,
   "id": "5f7c68ef",
   "metadata": {},
   "outputs": [],
   "source": [
    "random_int = np.random.randint(0, 2**n)\n",
    "target_string = bin(random_int)[2:].zfill(n)\n"
   ]
  },
  {
   "cell_type": "markdown",
   "id": "8c21081e",
   "metadata": {},
   "source": [
    "## Create the Grover circuit\n",
    "\n",
    "Our basic building blocks are:"
   ]
  },
  {
   "cell_type": "code",
   "execution_count": 153,
   "id": "79f81eb9",
   "metadata": {},
   "outputs": [],
   "source": [
    "# Hadamard\n",
    "H = Qunitary(\"H()^0\")\n",
    "# Pauli X\n",
    "X = Qunitary(\"X()^0\")\n",
    "# Controlled phase\n",
    "Cp = lambda x: Qunitary(\"cp(x)^01\", symbols=[x], arity=2)\n",
    "# Controlled not\n",
    "Cnot = Qunitary(\"cnot()^01\", symbols=[], arity=2)\n"
   ]
  },
  {
   "cell_type": "markdown",
   "id": "32f673ca",
   "metadata": {},
   "source": [
    "Here we take the state $\\psi$ to be the usual equal superposition of all computational basis states. The unitary $U_T$ is defined by the binary representation of the target state."
   ]
  },
  {
   "cell_type": "code",
   "execution_count": 154,
   "id": "8123710a",
   "metadata": {},
   "outputs": [],
   "source": [
    "# Unitary to prepare the state |psi>\n",
    "U_psi = Qcycle(mapping=H)\n",
    "# Unitary to prepare the target state |T>\n",
    "U_T = Qpivot(mapping=X, global_pattern=target_string[::-1])\n"
   ]
  },
  {
   "cell_type": "markdown",
   "id": "1282bab5",
   "metadata": {},
   "source": [
    "### Multi-controlled Z\n",
    "\n",
    "The backbone of a multi-controlled gate is the Toffoli gate."
   ]
  },
  {
   "cell_type": "code",
   "execution_count": 155,
   "id": "98da2199",
   "metadata": {},
   "outputs": [],
   "source": [
    "# Toffoli gate\n",
    "U_toffoli = Qinit(3)\n",
    "U_toffoli += Qpivot(mapping=H, global_pattern=\"*1\")\n",
    "U_toffoli += Qpivot(mapping=Cp(-np.pi / 2), global_pattern=\"*1\", merge_within=\"01\")\n",
    "U_toffoli += Qmotif(E=[(0, 1)], mapping=Cnot)\n",
    "U_toffoli += Qmotif(E=[(1, 2)], mapping=Cp(np.pi / 2))\n",
    "U_toffoli += Qmotif(E=[(0, 1)], mapping=Cnot)\n",
    "U_toffoli += Qpivot(mapping=H, global_pattern=\"*1\")\n"
   ]
  },
  {
   "cell_type": "code",
   "execution_count": 156,
   "id": "b94c3c42",
   "metadata": {},
   "outputs": [
    {
     "data": {
      "image/png": "[encoded data removed]",
      "text/plain": [
       "<Figure size 1374.44x284.278 with 1 Axes>"
      ]
     },
     "execution_count": 156,
     "metadata": {},
     "output_type": "execute_result"
    }
   ],
   "source": [
    "tofolli = U_toffoli(backend=\"qiskit\", barriers=True)\n",
    "tofolli.draw(\"mpl\", fold=50)\n"
   ]
  },
  {
   "cell_type": "markdown",
   "id": "f0d7f2e6",
   "metadata": {},
   "source": [
    "We will periodically mask and unmask the ancillary states from the circuit to make them unaccessible or assessable as needed. "
   ]
  },
  {
   "cell_type": "code",
   "execution_count": 157,
   "id": "3eee5cca",
   "metadata": {},
   "outputs": [],
   "source": [
    "# Mask ancillary qubits\n",
    "ancilla_str = \"0\" + \"01\" * (n - 3) + \"00\"\n",
    "maskAncillas = Qmask(ancilla_str)\n"
   ]
  },
  {
   "cell_type": "code",
   "execution_count": 158,
   "id": "74870d58",
   "metadata": {},
   "outputs": [],
   "source": [
    "# Multicontrolled Z gate\n",
    "# The multi-controlled gate use the ancillary qubits so we first unmask them to make them available\n",
    "multiCZ = Qunmask(\"previous\")\n",
    "# In order to convert what is a multi-controlled X gate to a multi-controlled Z gate apply H on the last qubit on either side\n",
    "multiCZ += Qpivot(mapping=H, global_pattern=\"*1\")\n",
    "# Apply the Toffoli gate sequentially to each pair of qubits with intermediate steps stored on the ancillary qubits\n",
    "multiCZ += Qcycle(mapping=U_toffoli, step=2, boundary=\"open\")\n",
    "# The final qubit is not an ancillary qubit, so we need to unmask it\n",
    "multiCZ += Qmask(\"*1\")\n",
    "# Apply the same sequence of Toffoli gates in reverse order in order to reset the ancillary qubits to 0\n",
    "multiCZ += Qcycle(mapping=U_toffoli, step=2, boundary=\"open\", edge_order=[-1])\n",
    "# Unmask the final qubit\n",
    "multiCZ += Qunmask(\"previous\")\n",
    "multiCZ += Qpivot(mapping=H, global_pattern=\"*1\")\n",
    "# Remask the ancillary qubits\n",
    "multiCZ += maskAncillas\n"
   ]
  },
  {
   "cell_type": "markdown",
   "id": "71359eea",
   "metadata": {},
   "source": [
    "Visualize the multi-control Z gate for four qubits."
   ]
  },
  {
   "cell_type": "code",
   "execution_count": 159,
   "id": "3fe4233d",
   "metadata": {},
   "outputs": [
    {
     "data": {
      "image/png": "[encoded data removed]",
      "text/plain": [
       "<Figure size 2880.95x451.5 with 1 Axes>"
      ]
     },
     "execution_count": 159,
     "metadata": {},
     "output_type": "execute_result"
    }
   ],
   "source": [
    "mcz = Qinit([\"qubit 1\", \"qubit 2\", \"ancilla 1\", \"qubit 3\", \"qubit 4\"]) + multiCZ\n",
    "mcz = mcz(backend=\"qiskit\", barriers=True)\n",
    "mcz.draw(\"mpl\", fold=50)\n"
   ]
  },
  {
   "cell_type": "code",
   "execution_count": 160,
   "id": "8b17b9e4",
   "metadata": {},
   "outputs": [],
   "source": [
    "# Oracle\n",
    "U_oracle = U_T + Qcycle(mapping=X) + multiCZ + Qcycle(mapping=X) + U_T\n",
    "# Reflection in the hyperplane orthogonal to |psi> (also called the defusion operator)\n",
    "U_defuse = U_psi + Qcycle(mapping=X) + multiCZ + Qcycle(mapping=X) + U_psi\n",
    "# where a cycle of X gates converts the multi-control Z (I - 2|1...1><1...1|) into I - 2|0...0><0...0|\n",
    "\n",
    "# Grover operator\n",
    "grover = U_oracle + U_defuse\n"
   ]
  },
  {
   "cell_type": "markdown",
   "id": "bc3d4b27",
   "metadata": {},
   "source": [
    "## Create the circuit for $N$ iterations of Grover's algorithm on $n$ qubits"
   ]
  },
  {
   "cell_type": "markdown",
   "id": "054c0116",
   "metadata": {},
   "source": [
    "### Pick an initial state"
   ]
  },
  {
   "cell_type": "code",
   "execution_count": 161,
   "id": "1e5c2dd4",
   "metadata": {},
   "outputs": [],
   "source": [
    "# Unitary to prepare the initial state |phi>\n",
    "# Option 1:\n",
    "# phi = psi (optimal)\n",
    "# U_phi = Qcycle(mapping=H)\n",
    "# Option 2:\n",
    "# possibly with some small orthogonal component to the plane spanned by T and psi\n",
    "U_phi = Qpivot(\n",
    "    mapping=H, global_pattern=bin(np.random.randint(0, 2 ** int(n / 4)))[2:].zfill(n)\n",
    ") + Qcycle(mapping=H)\n",
    "# Option 3:\n",
    "# The zero state (suboptimal - large orthogonal component to the plane spanned by T and psi)\n",
    "# U_phi = Qcycle(mapping=H) + Qcycle(mapping=H)\n"
   ]
  },
  {
   "cell_type": "markdown",
   "id": "0ab065a6",
   "metadata": {},
   "source": [
    "### Choose the number of iterations"
   ]
  },
  {
   "cell_type": "code",
   "execution_count": 162,
   "id": "6fd607b2",
   "metadata": {},
   "outputs": [],
   "source": [
    "# N_iterations = 3\n",
    "N_optimal = int((np.pi / 2 / np.arctan(1 / np.sqrt(2**n)) - 1) / 2)\n",
    "N_iterations = N_optimal\n"
   ]
  },
  {
   "cell_type": "code",
   "execution_count": 163,
   "id": "ac94cfed",
   "metadata": {},
   "outputs": [
    {
     "name": "stdout",
     "output_type": "stream",
     "text": [
      "Number of qubits: 7\n",
      "Number of ancillas: 4\n",
      "Total number of qubits: 11\n",
      "Search space size: 128\n",
      "Target state: 0010100 = 20\n",
      "\n",
      "Interactions of Grover to perform 8\n",
      "Optimal number of iterations 8\n"
     ]
    }
   ],
   "source": [
    "print(\"Number of qubits:\", n)\n",
    "print(\"Number of ancillas:\", n - 3)\n",
    "print(\"Total number of qubits:\", 2 * (n) - 3)\n",
    "print(\"Search space size:\", 2**n)\n",
    "print(\"Target state:\", target_string, \"=\", int(target_string, 2))\n",
    "\n",
    "print(\"\\nInteractions of Grover to perform\", N_iterations)\n",
    "print(\n",
    "    \"Optimal number of iterations\",\n",
    "    N_optimal,\n",
    ")\n"
   ]
  },
  {
   "cell_type": "code",
   "execution_count": 164,
   "id": "59774eea",
   "metadata": {},
   "outputs": [],
   "source": [
    "# Name qubits to distinguish between ancillary and query qubits\n",
    "q_names = [f\"q_{i}\" if ancilla_str[i] == \"0\" else f\"a_{i}\" for i in range(2 * n - 3)]\n",
    "\n",
    "# Initialise the circuit and prepare the initial state |psi>\n",
    "groverCircuit = Qinit(q_names) + maskAncillas + U_phi\n",
    "\n",
    "# Apply Grover N_iterations times\n",
    "if N_iterations > 0:\n",
    "    groverCircuit += grover * N_iterations\n"
   ]
  },
  {
   "cell_type": "code",
   "execution_count": 165,
   "id": "011d26ab",
   "metadata": {},
   "outputs": [],
   "source": [
    "# Create the circuit using the chose backend and measure all qubits\n",
    "circuit = groverCircuit(backend=\"qiskit\", barriers=True)\n",
    "circuit.measure_all()\n"
   ]
  },
  {
   "cell_type": "markdown",
   "id": "95f02eff",
   "metadata": {},
   "source": [
    "### Visualize the circuit (if not too big)"
   ]
  },
  {
   "cell_type": "code",
   "execution_count": 166,
   "id": "e8e4930f",
   "metadata": {},
   "outputs": [],
   "source": [
    "if N_iterations < 5:\n",
    "    fig = circuit.draw(\"mpl\", fold=50)\n",
    "else:\n",
    "    fig = None\n",
    "\n",
    "fig\n"
   ]
  },
  {
   "cell_type": "markdown",
   "id": "de0300f8",
   "metadata": {},
   "source": [
    "## Run an experiment"
   ]
  },
  {
   "cell_type": "code",
   "execution_count": 167,
   "id": "5b61d34d",
   "metadata": {},
   "outputs": [],
   "source": [
    "# Run the circuit, get counts\n",
    "from qiskit import Aer, execute\n",
    "from qiskit.visualization import plot_histogram\n",
    "\n",
    "backend = Aer.get_backend(\"qasm_simulator\")\n",
    "job = execute(circuit, backend, shots=1024)\n",
    "result = job.result()\n",
    "counts = result.get_counts()\n"
   ]
  },
  {
   "cell_type": "code",
   "execution_count": 168,
   "id": "b769cc17",
   "metadata": {},
   "outputs": [],
   "source": [
    "# Post preprocess the results of the Grover algorithm by tracing over ancillary qubits\n",
    "Q = []\n",
    "mask = [\"q\" if n.split(\"_\")[0] == \"q\" else \"a\" for n in q_names]\n",
    "for k in counts.keys():\n",
    "    Q.append(\"\".join([k[i] if mask[i] == \"q\" else \"*\" for i in range(len(k))]))\n",
    "\n",
    "counts_q = {}\n",
    "count_keys = counts.keys()\n",
    "for x in Q:\n",
    "    n_a = len(x.split(\"*\")) - 1\n",
    "    # all binary strings of length n_a\n",
    "    A = [[x for x in bin(i)[2:].zfill(n_a)] + [\"\"] for i in range(2**n_a)]\n",
    "    Trace_A = []\n",
    "    for a in A:\n",
    "        Trace_A.append(\"\".join([x + y for x, y in zip(x.split(\"*\"), a)]))\n",
    "\n",
    "    counts_q[x.replace(\"*\", \"\")] = sum([counts[k] for k in Trace_A if k in count_keys])\n"
   ]
  },
  {
   "cell_type": "markdown",
   "id": "6545f207",
   "metadata": {},
   "source": [
    "### Results"
   ]
  },
  {
   "cell_type": "code",
   "execution_count": 169,
   "id": "fb8162c5",
   "metadata": {
    "tags": []
   },
   "outputs": [
    {
     "name": "stdout",
     "output_type": "stream",
     "text": [
      "Target state: 0010100 = 20\n",
      "\n",
      "Interactions of Grover performed: 8\n",
      "Optimal number of iterations: 8\n",
      "\n",
      "State associate with the 5 largest number of count\n",
      "['0010100', '1101110', '1101010', '1001101', '1001001']\n",
      "Number of counts\n",
      "[1019, 1, 1, 1, 1]\n"
     ]
    },
    {
     "data": {
      "image/png": "[encoded data removed]",
      "text/plain": [
       "<Figure size 1500x500 with 1 Axes>"
      ]
     },
     "execution_count": 169,
     "metadata": {},
     "output_type": "execute_result"
    }
   ],
   "source": [
    "print(\"Target state:\", target_string, \"=\", int(target_string, 2))\n",
    "\n",
    "print(\"\\nInteractions of Grover performed:\", N_iterations)\n",
    "print(\"Optimal number of iterations:\", int((np.pi / 2 * np.sqrt(2**n) - 1) / 2))\n",
    "print()\n",
    "\n",
    "x = counts_q.keys()\n",
    "y = counts_q.values()\n",
    "# States associate with the 5 largest value of y\n",
    "top_x = [x for _, x in sorted(zip(y, x), reverse=True)][:5]\n",
    "top_y = sorted(y, reverse=True)[:5]\n",
    "\n",
    "print(\"State associate with the 5 largest number of count\")\n",
    "print(top_x)\n",
    "print(\"Number of counts\")\n",
    "print(top_y)\n",
    "\n",
    "plot_histogram(counts_q, figsize=(int(len(x)/4) if len(x)>100 else 15,5))\n"
   ]
  }
 ],
 "metadata": {
  "kernelspec": {
   "display_name": "unitary_hack",
   "language": "python",
   "name": "unitary_hack"
  },
  "language_info": {
   "codemirror_mode": {
    "name": "ipython",
    "version": 3
   },
   "file_extension": ".py",
   "mimetype": "text/x-python",
   "name": "python",
   "nbconvert_exporter": "python",
   "pygments_lexer": "ipython3",
   "version": "3.10.9"
  }
 },
 "nbformat": 4,
 "nbformat_minor": 5
}
